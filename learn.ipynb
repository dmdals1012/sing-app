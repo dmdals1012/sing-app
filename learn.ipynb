{
 "cells": [
  {
   "cell_type": "code",
   "execution_count": 1,
   "metadata": {},
   "outputs": [
    {
     "name": "stdout",
     "output_type": "stream",
     "text": [
      "WARNING:tensorflow:From c:\\Users\\USER\\anaconda3\\envs\\hi\\lib\\site-packages\\keras\\src\\losses.py:2976: The name tf.losses.sparse_softmax_cross_entropy is deprecated. Please use tf.compat.v1.losses.sparse_softmax_cross_entropy instead.\n",
      "\n"
     ]
    }
   ],
   "source": [
    "import os\n",
    "import numpy as np\n",
    "import librosa\n",
    "from sklearn.model_selection import train_test_split\n",
    "from sklearn.preprocessing import LabelEncoder\n",
    "import tensorflow as tf"
   ]
  },
  {
   "cell_type": "code",
   "execution_count": 2,
   "metadata": {},
   "outputs": [],
   "source": [
    "data_path = 'data/FULL'"
   ]
  },
  {
   "cell_type": "code",
   "execution_count": 3,
   "metadata": {},
   "outputs": [],
   "source": [
    "voice_type_mapping = {\n",
    "    'female1': 'soprano', 'female2': 'soprano', 'female3': 'soprano', 'female4': 'soprano',\n",
    "    'female5': 'mezzo_soprano', 'female6': 'soprano', 'female7': 'soprano', 'female8': 'mezzo_soprano', 'female9': 'soprano',\n",
    "    'male1': 'baritone', 'male2': 'tenor', 'male3': 'tenor', 'male4': 'bass',\n",
    "    'male5': 'baritone', 'male6': 'baritone', 'male7': 'tenor', 'male8': 'bass',\n",
    "    'male9': 'tenor', 'male10': 'bass', 'male11': 'tenor'\n",
    "}"
   ]
  },
  {
   "cell_type": "code",
   "execution_count": 4,
   "metadata": {},
   "outputs": [],
   "source": [
    "def load_and_preprocess_data(data_path, voice_type_mapping, sample_rate=22050, duration=5):\n",
    "    X = []\n",
    "    y = []\n",
    "    for singer in os.listdir(data_path):\n",
    "        singer_path = os.path.join(data_path, singer)\n",
    "        if os.path.isdir(singer_path) and singer in voice_type_mapping:\n",
    "            voice_type = voice_type_mapping[singer]\n",
    "            for category in ['arpeggios', 'excerpts', 'long_tones', 'scales']:\n",
    "                category_path = os.path.join(singer_path, category)\n",
    "                if os.path.isdir(category_path):\n",
    "                    for technique in os.listdir(category_path):\n",
    "                        technique_path = os.path.join(category_path, technique)\n",
    "                        if os.path.isdir(technique_path):\n",
    "                            for file in os.listdir(technique_path):\n",
    "                                if file.endswith('.wav'):\n",
    "                                    file_path = os.path.join(technique_path, file)\n",
    "                                    audio, _ = librosa.load(file_path, sr=sample_rate, duration=duration)\n",
    "                                    if len(audio) < sample_rate * duration:\n",
    "                                        audio = np.pad(audio, (0, sample_rate * duration - len(audio)))\n",
    "                                    else:\n",
    "                                        audio = audio[:sample_rate * duration]\n",
    "                                    mfcc = librosa.feature.mfcc(y=audio, sr=sample_rate, n_mfcc=40)\n",
    "                                    X.append(mfcc)\n",
    "                                    y.append(voice_type)\n",
    "    return np.array(X), np.array(y)"
   ]
  },
  {
   "cell_type": "code",
   "execution_count": 5,
   "metadata": {},
   "outputs": [],
   "source": [
    "X, y = load_and_preprocess_data(data_path, voice_type_mapping)"
   ]
  },
  {
   "cell_type": "code",
   "execution_count": 6,
   "metadata": {},
   "outputs": [],
   "source": [
    "label_encoder = LabelEncoder()\n",
    "y_encoded = label_encoder.fit_transform(y)"
   ]
  },
  {
   "cell_type": "code",
   "execution_count": 7,
   "metadata": {},
   "outputs": [],
   "source": [
    "X_train, X_test, y_train, y_test = train_test_split(X, y_encoded, test_size=0.2, random_state=42)"
   ]
  },
  {
   "cell_type": "code",
   "execution_count": 8,
   "metadata": {},
   "outputs": [],
   "source": [
    "X_train = X_train.reshape(X_train.shape[0], X_train.shape[1], X_train.shape[2], 1)\n",
    "X_test = X_test.reshape(X_test.shape[0], X_test.shape[1], X_test.shape[2], 1)"
   ]
  },
  {
   "cell_type": "code",
   "execution_count": 9,
   "metadata": {},
   "outputs": [],
   "source": [
    "def build_model(input_shape, num_classes):\n",
    "    model = tf.keras.Sequential([\n",
    "        tf.keras.layers.Conv2D(32, (3, 3), activation='relu', input_shape=input_shape),\n",
    "        tf.keras.layers.MaxPooling2D((2, 2)),\n",
    "        tf.keras.layers.Conv2D(64, (3, 3), activation='relu'),\n",
    "        tf.keras.layers.MaxPooling2D((2, 2)),\n",
    "        tf.keras.layers.Conv2D(64, (3, 3), activation='relu'),\n",
    "        tf.keras.layers.Flatten(),\n",
    "        tf.keras.layers.Dense(64, activation='relu'),\n",
    "        tf.keras.layers.Dense(num_classes, activation='softmax')\n",
    "    ])\n",
    "    return model"
   ]
  },
  {
   "cell_type": "code",
   "execution_count": 10,
   "metadata": {},
   "outputs": [
    {
     "name": "stdout",
     "output_type": "stream",
     "text": [
      "WARNING:tensorflow:From c:\\Users\\USER\\anaconda3\\envs\\hi\\lib\\site-packages\\keras\\src\\backend.py:873: The name tf.get_default_graph is deprecated. Please use tf.compat.v1.get_default_graph instead.\n",
      "\n",
      "WARNING:tensorflow:From c:\\Users\\USER\\anaconda3\\envs\\hi\\lib\\site-packages\\keras\\src\\layers\\pooling\\max_pooling2d.py:161: The name tf.nn.max_pool is deprecated. Please use tf.nn.max_pool2d instead.\n",
      "\n"
     ]
    }
   ],
   "source": [
    "model = build_model(X_train.shape[1:], len(np.unique(y_encoded)))"
   ]
  },
  {
   "cell_type": "code",
   "execution_count": 12,
   "metadata": {},
   "outputs": [
    {
     "name": "stdout",
     "output_type": "stream",
     "text": [
      "WARNING:tensorflow:From c:\\Users\\USER\\anaconda3\\envs\\hi\\lib\\site-packages\\keras\\src\\optimizers\\__init__.py:309: The name tf.train.Optimizer is deprecated. Please use tf.compat.v1.train.Optimizer instead.\n",
      "\n"
     ]
    }
   ],
   "source": [
    "model.compile(optimizer='adam',\n",
    "              loss='sparse_categorical_crossentropy',\n",
    "              metrics=['accuracy'])"
   ]
  },
  {
   "cell_type": "code",
   "execution_count": 13,
   "metadata": {},
   "outputs": [
    {
     "name": "stdout",
     "output_type": "stream",
     "text": [
      "Epoch 1/10\n",
      "WARNING:tensorflow:From c:\\Users\\USER\\anaconda3\\envs\\hi\\lib\\site-packages\\keras\\src\\utils\\tf_utils.py:492: The name tf.ragged.RaggedTensorValue is deprecated. Please use tf.compat.v1.ragged.RaggedTensorValue instead.\n",
      "\n",
      "WARNING:tensorflow:From c:\\Users\\USER\\anaconda3\\envs\\hi\\lib\\site-packages\\keras\\src\\engine\\base_layer_utils.py:384: The name tf.executing_eagerly_outside_functions is deprecated. Please use tf.compat.v1.executing_eagerly_outside_functions instead.\n",
      "\n",
      "73/73 [==============================] - 9s 110ms/step - loss: 2.0767 - accuracy: 0.6008 - val_loss: 0.7729 - val_accuracy: 0.6990\n",
      "Epoch 2/10\n",
      "73/73 [==============================] - 8s 111ms/step - loss: 0.5666 - accuracy: 0.7781 - val_loss: 0.5045 - val_accuracy: 0.8201\n",
      "Epoch 3/10\n",
      "73/73 [==============================] - 8s 109ms/step - loss: 0.3998 - accuracy: 0.8469 - val_loss: 0.4868 - val_accuracy: 0.8080\n",
      "Epoch 4/10\n",
      "73/73 [==============================] - 9s 119ms/step - loss: 0.2806 - accuracy: 0.8914 - val_loss: 0.4214 - val_accuracy: 0.8287\n",
      "Epoch 5/10\n",
      "73/73 [==============================] - 9s 123ms/step - loss: 0.2084 - accuracy: 0.9208 - val_loss: 0.5230 - val_accuracy: 0.8391\n",
      "Epoch 6/10\n",
      "73/73 [==============================] - 9s 126ms/step - loss: 0.1639 - accuracy: 0.9420 - val_loss: 0.4234 - val_accuracy: 0.8616\n",
      "Epoch 7/10\n",
      "73/73 [==============================] - 9s 124ms/step - loss: 0.1023 - accuracy: 0.9637 - val_loss: 0.4865 - val_accuracy: 0.8356\n",
      "Epoch 8/10\n",
      "73/73 [==============================] - 9s 124ms/step - loss: 0.0824 - accuracy: 0.9736 - val_loss: 0.4573 - val_accuracy: 0.8547\n",
      "Epoch 9/10\n",
      "73/73 [==============================] - 9s 122ms/step - loss: 0.0525 - accuracy: 0.9831 - val_loss: 0.7117 - val_accuracy: 0.8512\n",
      "Epoch 10/10\n",
      "73/73 [==============================] - 9s 123ms/step - loss: 0.0741 - accuracy: 0.9719 - val_loss: 0.5328 - val_accuracy: 0.8668\n"
     ]
    }
   ],
   "source": [
    "history = model.fit(X_train, y_train, epochs=10, validation_split=0.2)"
   ]
  },
  {
   "cell_type": "code",
   "execution_count": 14,
   "metadata": {},
   "outputs": [
    {
     "name": "stdout",
     "output_type": "stream",
     "text": [
      "23/23 - 1s - loss: 0.6553 - accuracy: 0.8465 - 603ms/epoch - 26ms/step\n",
      "\n",
      "Test accuracy: 0.8464730381965637\n"
     ]
    }
   ],
   "source": [
    "test_loss, test_acc = model.evaluate(X_test, y_test, verbose=2)\n",
    "print(f'\\nTest accuracy: {test_acc}')"
   ]
  },
  {
   "cell_type": "code",
   "execution_count": 16,
   "metadata": {},
   "outputs": [],
   "source": [
    "import joblib"
   ]
  },
  {
   "cell_type": "code",
   "execution_count": 20,
   "metadata": {},
   "outputs": [
    {
     "data": {
      "text/plain": [
       "['vocal_range_classifier.pkl']"
      ]
     },
     "execution_count": 20,
     "metadata": {},
     "output_type": "execute_result"
    }
   ],
   "source": [
    "joblib.dump(model,'vocal_range_classifier.pkl')"
   ]
  },
  {
   "cell_type": "code",
   "execution_count": 21,
   "metadata": {},
   "outputs": [
    {
     "name": "stderr",
     "output_type": "stream",
     "text": [
      "c:\\Users\\USER\\anaconda3\\envs\\hi\\lib\\site-packages\\keras\\src\\engine\\training.py:3103: UserWarning: You are saving your model as an HDF5 file via `model.save()`. This file format is considered legacy. We recommend using instead the native Keras format, e.g. `model.save('my_model.keras')`.\n",
      "  saving_api.save_model(\n"
     ]
    }
   ],
   "source": [
    "model.save('vocal_range_classifier.h5')"
   ]
  },
  {
   "cell_type": "code",
   "execution_count": 18,
   "metadata": {},
   "outputs": [
    {
     "data": {
      "text/plain": [
       "['label_encoder.pkl']"
      ]
     },
     "execution_count": 18,
     "metadata": {},
     "output_type": "execute_result"
    }
   ],
   "source": [
    "joblib.dump(label_encoder,'label_encoder.pkl')"
   ]
  },
  {
   "cell_type": "code",
   "execution_count": null,
   "metadata": {},
   "outputs": [],
   "source": []
  },
  {
   "cell_type": "code",
   "execution_count": null,
   "metadata": {},
   "outputs": [],
   "source": []
  },
  {
   "cell_type": "code",
   "execution_count": null,
   "metadata": {},
   "outputs": [],
   "source": []
  },
  {
   "cell_type": "code",
   "execution_count": null,
   "metadata": {},
   "outputs": [],
   "source": []
  },
  {
   "cell_type": "code",
   "execution_count": null,
   "metadata": {},
   "outputs": [],
   "source": []
  },
  {
   "cell_type": "code",
   "execution_count": null,
   "metadata": {},
   "outputs": [],
   "source": []
  },
  {
   "cell_type": "code",
   "execution_count": null,
   "metadata": {},
   "outputs": [],
   "source": []
  }
 ],
 "metadata": {
  "kernelspec": {
   "display_name": "hi",
   "language": "python",
   "name": "python3"
  },
  "language_info": {
   "codemirror_mode": {
    "name": "ipython",
    "version": 3
   },
   "file_extension": ".py",
   "mimetype": "text/x-python",
   "name": "python",
   "nbconvert_exporter": "python",
   "pygments_lexer": "ipython3",
   "version": "3.10.16"
  }
 },
 "nbformat": 4,
 "nbformat_minor": 2
}
